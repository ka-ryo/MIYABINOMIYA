{
 "cells": [
  {
   "cell_type": "code",
   "execution_count": 1,
   "metadata": {},
   "outputs": [],
   "source": [
    "import pyomo.environ as pyo\n",
    "from pyomo.opt import SolverFactory\n",
    "\n",
    "import numpy as np"
   ]
  },
  {
   "cell_type": "code",
   "execution_count": 2,
   "metadata": {},
   "outputs": [],
   "source": [
    "#変数・パラメータの設定\n",
    "\n",
    "#係数行列の次元\n",
    "N=2\n",
    "M=2\n",
    "\n",
    "#係数ベクトル，係数行列の作成\n",
    "b = np.array([2,3], dtype=\"float\")\n",
    "A = np.array([[4,3],[1,2]], dtype=\"float\")\n",
    "c = np.array([120,60], dtype=\"float\")\n"
   ]
  },
  {
   "cell_type": "code",
   "execution_count": 3,
   "metadata": {},
   "outputs": [],
   "source": [
    "#決定変数の設定\n",
    "x = np.zeros(shape=(N), dtype=\"float\")\n",
    "\n",
    "#決定変数初期化用関数---------------------\n",
    "xx = {i:x[i] for i in range(len(x))}\n",
    "def init_x(model,i):\n",
    "    return xx[i]\n",
    "# -----------------------------------"
   ]
  },
  {
   "cell_type": "code",
   "execution_count": 34,
   "metadata": {},
   "outputs": [
    {
     "data": {
      "text/plain": [
       "[0, 1]"
      ]
     },
     "execution_count": 34,
     "metadata": {},
     "output_type": "execute_result"
    }
   ],
   "source": [
    "#index list\n",
    "N_index_list = list(range(N))\n",
    "M_index_list = list(range(M))"
   ]
  },
  {
   "cell_type": "code",
   "execution_count": 35,
   "metadata": {},
   "outputs": [],
   "source": [
    "#不等式制約\n",
    "def const(model, j):\n",
    "    tmp = sum(A[j,i]*model.x[i] for i in N_index_list)\n",
    "    return tmp <= c[j]\n",
    "\n",
    "#目的関数\n",
    "def func(model):\n",
    "    print(\"--------------------------------------------------\")\n",
    "    X_index_list = list(range(2,3))\n",
    "    print( b[i] for i in X_index_list)\n",
    "    print(\"---------------------------------------------------\")\n",
    "    return sum(b[i] * model.x[i] for i in N_index_list)   \n"
   ]
  },
  {
   "cell_type": "code",
   "execution_count": 36,
   "metadata": {},
   "outputs": [],
   "source": [
    "model = pyo.AbstractModel(\"LP-sample\")\n",
    "\n",
    "#決定変数をモデルに組み込み\n",
    "model.x = pyo.Var(N_index_list, domain=pyo.NonNegativeReals, initialize=init_x)\n",
    "\n",
    "#目的関数をモデルに組み込む\n",
    "model.value = pyo.Objective(rule=func, sense=pyo.maximize)\n",
    "\n",
    "#制約をモデルに組み込み\n",
    "model.const = pyo.Constraint(M_index_list, rule=const)\n",
    "\n"
   ]
  },
  {
   "cell_type": "code",
   "execution_count": 37,
   "metadata": {},
   "outputs": [],
   "source": [
    "#ソルバーの選択とオプション\n",
    "solver_name = \"glpk\"\n",
    "opt = SolverFactory(solver_name)"
   ]
  },
  {
   "cell_type": "code",
   "execution_count": 38,
   "metadata": {},
   "outputs": [
    {
     "name": "stdout",
     "output_type": "stream",
     "text": [
      "--------------------------------------------------\n",
      "2.0\n",
      "---------------------------------------------------\n",
      "GLPSOL: GLPK LP/MIP Solver, v4.65\n",
      "Parameter(s) specified in the command line:\n"
     ]
    },
    {
     "name": "stderr",
     "output_type": "stream",
     "text": [
      "Exception in thread Thread-10:\n",
      "Traceback (most recent call last):\n",
      "  File \"C:\\ProgramData\\Anaconda3\\lib\\threading.py\", line 917, in _bootstrap_inner\n",
      "    self.run()\n",
      "  File \"C:\\ProgramData\\Anaconda3\\lib\\threading.py\", line 865, in run\n",
      "    self._target(*self._args, **self._kwargs)\n",
      "  File \"C:\\ProgramData\\Anaconda3\\lib\\site-packages\\pyutilib\\subprocess\\processmngr.py\", line 367, in _merged_reader\n",
      "    char = s.data.decode(encoding)\n",
      "UnicodeDecodeError: 'utf-8' codec can't decode byte 0x88 in position 0: invalid start byte\n",
      "\n"
     ]
    },
    {
     "name": "stdout",
     "output_type": "stream",
     "text": [
      "WARNING: DEPRECATION WARNING: the Model.load() method is deprecated for\n",
      "    loading solutions stored in SolverResults objects.  By default, results\n",
      "    from solvers are immediately loaded into the original model instance.\n",
      "# ==========================================================\n",
      "# = Solver Results                                         =\n",
      "# ==========================================================\n",
      "# ----------------------------------------------------------\n",
      "#   Problem Information\n",
      "# ----------------------------------------------------------\n",
      "Problem: \n",
      "- Name: unknown\n",
      "  Lower bound: 96.0\n",
      "  Upper bound: 96.0\n",
      "  Number of objectives: 1\n",
      "  Number of constraints: 3\n",
      "  Number of variables: 3\n",
      "  Number of nonzeros: 5\n",
      "  Sense: maximize\n",
      "# ----------------------------------------------------------\n",
      "#   Solver Information\n",
      "# ----------------------------------------------------------\n",
      "Solver: \n",
      "- Status: ok\n",
      "  Termination condition: optimal\n",
      "  Statistics: \n",
      "    Branch and bound: \n",
      "      Number of bounded subproblems: 0\n",
      "      Number of created subproblems: 0\n",
      "  Error rc: 0\n",
      "  Time: 0.016953229904174805\n",
      "# ----------------------------------------------------------\n",
      "#   Solution Information\n",
      "# ----------------------------------------------------------\n",
      "Solution: \n",
      "- number of solutions: 0\n",
      "  number of solutions displayed: 0\n"
     ]
    }
   ],
   "source": [
    "instance =  model.create_instance()\n",
    "instance.dual = pyo.Suffix(direction=pyo.Suffix.IMPORT) #双対変数取得用に必要\n",
    "results = opt.solve(instance, tee=True)#tee=Trueでログ出力\n",
    "instance.load(results)\n",
    "results.write()"
   ]
  },
  {
   "cell_type": "code",
   "execution_count": null,
   "metadata": {},
   "outputs": [],
   "source": []
  }
 ],
 "metadata": {
  "kernelspec": {
   "display_name": "Python 3",
   "language": "python",
   "name": "python3"
  },
  "language_info": {
   "codemirror_mode": {
    "name": "ipython",
    "version": 3
   },
   "file_extension": ".py",
   "mimetype": "text/x-python",
   "name": "python",
   "nbconvert_exporter": "python",
   "pygments_lexer": "ipython3",
   "version": "3.7.3"
  }
 },
 "nbformat": 4,
 "nbformat_minor": 2
}
